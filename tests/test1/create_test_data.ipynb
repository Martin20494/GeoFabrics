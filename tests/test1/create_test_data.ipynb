{
 "cells": [
  {
   "cell_type": "code",
   "execution_count": null,
   "metadata": {},
   "outputs": [],
   "source": [
    "import os\n",
    "import pathlib\n",
    "import shapely.geometry\n",
    "import geopandas\n",
    "import shutil\n",
    "import numpy\n",
    "import xarray\n",
    "import rioxarray"
   ]
  },
  {
   "cell_type": "markdown",
   "metadata": {},
   "source": [
    "# Define data paths"
   ]
  },
  {
   "cell_type": "code",
   "execution_count": null,
   "metadata": {},
   "outputs": [],
   "source": [
    "data_dir = pathlib.Path(os.getcwd()) / pathlib.Path('data')\n",
    "if not os.path.exists(data_dir):\n",
    "    os.mkdir(data_dir)\n",
    "catchment_name = 'catchment_boundary'\n",
    "catchment_dir = data_dir / pathlib.Path(catchment_name)\n",
    "land_name = 'land'\n",
    "land_dir = data_dir / pathlib.Path(land_name)\n",
    "bathymetry_name = 'bathymetry'\n",
    "bathymetry_dir = data_dir / pathlib.Path(bathymetry_name)\n",
    "dem_dir = data_dir / pathlib.Path('reference_dem.nc')"
   ]
  },
  {
   "cell_type": "code",
   "execution_count": null,
   "metadata": {},
   "outputs": [],
   "source": [
    "crs = 2193"
   ]
  },
  {
   "cell_type": "markdown",
   "metadata": {},
   "source": [
    "# Create catchment and land boundary"
   ]
  },
  {
   "cell_type": "code",
   "execution_count": null,
   "metadata": {},
   "outputs": [],
   "source": [
    "x0 = 250; y0 = -250; x1 = 1250; y1 = 750;\n",
    "catchment = shapely.geometry.Polygon([(x0, y0), (x1, y0), (x1, y1), (x0, y1)])\n",
    "catchment = geopandas.GeoSeries([catchment])\n",
    "catchment.to_file(catchment_dir)\n",
    "shutil.make_archive(base_name=catchment_dir, format='zip', root_dir=data_dir, base_dir=catchment_name)\n",
    "shutil.rmtree(catchment_dir)"
   ]
  },
  {
   "cell_type": "code",
   "execution_count": null,
   "metadata": {},
   "outputs": [],
   "source": [
    "x0 = 0; y0 = 0; x1 = 1500; y1 = 1000;\n",
    "land = shapely.geometry.Polygon([(x0, y0), (x1, y0), (x1, y1), (x0, y1)])\n",
    "land = geopandas.GeoSeries([land])\n",
    "land.set_crs(crs)\n",
    "catchment.to_file(land_dir)\n",
    "shutil.make_archive(base_name=land_dir, format='zip', root_dir=data_dir, base_dir=land_name)\n",
    "shutil.rmtree(land_dir)"
   ]
  },
  {
   "cell_type": "markdown",
   "metadata": {},
   "source": [
    "# Create bathymetry"
   ]
  },
  {
   "cell_type": "code",
   "execution_count": null,
   "metadata": {},
   "outputs": [],
   "source": [
    "x0 = 0; x1 = 1500; y0 = -50; y1 = -100; y2 = -200;\n",
    "contour_0 = shapely.geometry.LineString([(x0, y0), (x1, y0)])\n",
    "contour_1 = shapely.geometry.LineString([(x0, y1), (x1, y1)])\n",
    "contour_2 = shapely.geometry.LineString([(x0, y2), (x1, y2)])\n",
    "contours = geopandas.GeoSeries([contour_0, contour_1, contour_2])\n",
    "contours.set_crs(crs)\n",
    "contours.to_file(bathymetry_dir)\n",
    "shutil.make_archive(base_name=bathymetry_dir, format='zip', root_dir=data_dir, base_dir=bathymetry_name)\n",
    "shutil.rmtree(bathymetry_dir)"
   ]
  },
  {
   "cell_type": "markdown",
   "metadata": {},
   "source": [
    "# Create DEM"
   ]
  },
  {
   "cell_type": "code",
   "execution_count": null,
   "metadata": {},
   "outputs": [],
   "source": [
    "dxy = 15\n",
    "grid_dem_x, grid_dem_y = numpy.meshgrid(numpy.arange(200, 1300, dxy), numpy.arange(-25, 800, dxy))\n",
    "grid_dem_z = numpy.zeros_like(grid_dem_x, dtype = numpy.float64)\n",
    "grid_dem_z[grid_dem_y < 0] = grid_dem_y[grid_dem_y < 0] / 10\n",
    "grid_dem_z[grid_dem_y > 0] = grid_dem_y[grid_dem_y > 0 ] / 10 * (numpy.abs(grid_dem_x[grid_dem_y > 0 ] - 750) / 500 + 0.1) / 1.1\n",
    "dem = xarray.DataArray(grid_dem_z, coords = {'x': grid_dem_x[0], 'y': grid_dem_y[:,0]}, dims = ['y','x'], \n",
    "                       attrs={'scale_factor': 1.0, 'add_offset': 0.0})\n",
    "dem.rio.set_crs(crs)\n",
    "dem.to_netcdf(dem_dir)"
   ]
  },
  {
   "cell_type": "code",
   "execution_count": null,
   "metadata": {},
   "outputs": [],
   "source": [
    "import rioxarray\n",
    "dem_in=rioxarray.rioxarray.open_rasterio(dem_dir, masked=True, parse_coordinates=True)\n",
    "dem_in.plot()"
   ]
  },
  {
   "cell_type": "markdown",
   "metadata": {},
   "source": [
    "# Create LiDAR - work in progress"
   ]
  },
  {
   "cell_type": "code",
   "execution_count": null,
   "metadata": {},
   "outputs": [],
   "source": [
    "dxy = 1\n",
    "grid_x_l, grid_y_l = numpy.meshgrid(numpy.arange(500, 1000, dxy), numpy.arange(-25, 475, dxy))\n",
    "grid_z_l = numpy.zeros_like(grid_x_l, dtype = numpy.float64)\n",
    "grid_z_l[grid_y_l < 0] = grid_y_l[grid_y_l < 0] / 10\n",
    "grid_z_l[grid_y_l > 0] = grid_y_l[grid_y_l > 0 ] / 10 * (numpy.abs(grid_x_l[grid_y_l > 0 ] - 750) / 500 + 0.1) / 1.1\n",
    "#lidar = xarray.DataArray(grid_z, coords = {'x': grid_x[0], 'y': grid_y[:,0]}, dims = ['y','x'])\n",
    "#dem.to_netcdf(dem_dir)"
   ]
  },
  {
   "cell_type": "code",
   "execution_count": null,
   "metadata": {},
   "outputs": [],
   "source": [
    "grid_z[2]"
   ]
  },
  {
   "cell_type": "code",
   "execution_count": null,
   "metadata": {},
   "outputs": [],
   "source": [
    "grid_z_l[30]"
   ]
  },
  {
   "cell_type": "code",
   "execution_count": null,
   "metadata": {},
   "outputs": [],
   "source": [
    "import matplotlib.pyplot\n",
    "f, ax = matplotlib.pyplot.subplots(figsize=(15, 10))\n",
    "vmin = -2.5; vmax = 75;\n",
    "\n",
    "p = matplotlib.pyplot.imshow(grid_z, extent=[200, 1300, 800, -25], vmin=vmin, vmax = vmax)\n",
    "#p2 = matplotlib.pyplot.imshow(grid_z_l, extent=[500, 1000, -25, 475])#, vmin=vmin, vmax = vmax)\n",
    "land.plot(ax=ax, color='None', edgecolor='brown', linewidth=5)\n",
    "catchment.plot(ax=ax, color='None', edgecolor='green', linewidth=5)\n",
    "contours.plot(ax=ax, marker='o', color='blue', markersize=5)\n",
    "matplotlib.pyplot.xlabel('x')\n",
    "matplotlib.pyplot.ylabel('y')\n",
    "ax.set_title(\"All data\")\n",
    "f.colorbar(p, ax=ax)"
   ]
  },
  {
   "cell_type": "code",
   "execution_count": null,
   "metadata": {},
   "outputs": [],
   "source": [
    "grid_z"
   ]
  },
  {
   "cell_type": "code",
   "execution_count": null,
   "metadata": {},
   "outputs": [],
   "source": [
    "grid_x"
   ]
  },
  {
   "cell_type": "code",
   "execution_count": null,
   "metadata": {},
   "outputs": [],
   "source": [
    "grid_y"
   ]
  },
  {
   "cell_type": "code",
   "execution_count": null,
   "metadata": {},
   "outputs": [],
   "source": [
    "land.geometry"
   ]
  },
  {
   "cell_type": "code",
   "execution_count": null,
   "metadata": {},
   "outputs": [],
   "source": []
  }
 ],
 "metadata": {
  "kernelspec": {
   "display_name": "Python [conda env:spyder]",
   "language": "python",
   "name": "conda-env-spyder-py"
  },
  "language_info": {
   "codemirror_mode": {
    "name": "ipython",
    "version": 3
   },
   "file_extension": ".py",
   "mimetype": "text/x-python",
   "name": "python",
   "nbconvert_exporter": "python",
   "pygments_lexer": "ipython3",
   "version": "3.9.5"
  }
 },
 "nbformat": 4,
 "nbformat_minor": 2
}
