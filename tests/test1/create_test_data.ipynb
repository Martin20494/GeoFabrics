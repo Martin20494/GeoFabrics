{
 "cells": [
  {
   "cell_type": "code",
   "execution_count": null,
   "metadata": {},
   "outputs": [],
   "source": [
    "import os\n",
    "import pathlib\n",
    "import shapely.geometry\n",
    "import geopandas\n",
    "import shutil"
   ]
  },
  {
   "cell_type": "markdown",
   "metadata": {},
   "source": [
    "# Define data paths"
   ]
  },
  {
   "cell_type": "code",
   "execution_count": null,
   "metadata": {},
   "outputs": [],
   "source": [
    "data_dir = pathlib.Path(os.getcwd()) / pathlib.Path('data')\n",
    "if not os.path.exists(data_dir):\n",
    "    os.mkdir(data_dir)\n",
    "catchment_name = 'catchment_boundary'\n",
    "catchment_dir = data_dir / pathlib.Path(catchment_name)\n",
    "land_name = 'land'\n",
    "land_dir = data_dir / pathlib.Path(land_name)"
   ]
  },
  {
   "cell_type": "markdown",
   "metadata": {},
   "source": [
    "# Create catchment and land boundary"
   ]
  },
  {
   "cell_type": "code",
   "execution_count": null,
   "metadata": {},
   "outputs": [],
   "source": [
    "x0 = 250; y0 = -250; x1 = 1250; y1 = 750;\n",
    "catchment = shapely.geometry.Polygon([(x0, y0), (x1, y0), (x1, y1), (x0, y1)])\n",
    "catchment = geopandas.GeoSeries([catchment])\n",
    "catchment.to_file(catchment_dir)\n",
    "shutil.make_archive(base_name=catchment_dir, format='zip', root_dir=data_dir, base_dir=catchment_name)\n",
    "shutil.rmtree(catchment_dir)"
   ]
  },
  {
   "cell_type": "code",
   "execution_count": null,
   "metadata": {},
   "outputs": [],
   "source": [
    "x0 = 0; y0 = -0; x1 = 1500; y1 = 1000;\n",
    "land = shapely.geometry.Polygon([(x0, y0), (x1, y0), (x1, y1), (x0, y1)])\n",
    "land = geopandas.GeoSeries([land])\n",
    "catchment.to_file(land_dir)\n",
    "shutil.make_archive(base_name=land_dir, format='zip', root_dir=data_dir, base_dir=land_name)\n",
    "shutil.rmtree(land_dir)"
   ]
  },
  {
   "cell_type": "markdown",
   "metadata": {},
   "source": [
    "# Create bathymetry"
   ]
  },
  {
   "cell_type": "code",
   "execution_count": null,
   "metadata": {},
   "outputs": [],
   "source": []
  }
 ],
 "metadata": {
  "kernelspec": {
   "display_name": "Python [conda env:spyder]",
   "language": "python",
   "name": "conda-env-spyder-py"
  },
  "language_info": {
   "codemirror_mode": {
    "name": "ipython",
    "version": 3
   },
   "file_extension": ".py",
   "mimetype": "text/x-python",
   "name": "python",
   "nbconvert_exporter": "python",
   "pygments_lexer": "ipython3",
   "version": "3.9.5"
  }
 },
 "nbformat": 4,
 "nbformat_minor": 2
}
